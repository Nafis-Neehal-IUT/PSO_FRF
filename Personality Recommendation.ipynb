{
 "cells": [
  {
   "cell_type": "markdown",
   "metadata": {},
   "source": [
    "<h1> Data Import and Preprocessing </h1>"
   ]
  },
  {
   "cell_type": "code",
   "execution_count": 1,
   "metadata": {
    "collapsed": true
   },
   "outputs": [],
   "source": [
    "#import libraries and modules\n",
    "import pandas as pd\n",
    "import numpy as np\n",
    "import matplotlib.pyplot as plt\n",
    "from random import randint\n",
    "from sklearn.model_selection import train_test_split\n",
    "from sklearn.metrics import classification_report\n",
    "from sklearn.metrics import accuracy_score, f1_score, precision_score, recall_score, classification_report, confusion_matrix\n",
    "from NeuralNetwork import Layer, NeuralNetwork\n",
    "from PSO import ParticleStructure, Swarm\n",
    "import itertools\n",
    "import time\n",
    "\n",
    "#supress all warnings\n",
    "import warnings\n",
    "warnings.filterwarnings('ignore')\n",
    "\n",
    "#import data to pandas dataframe\n",
    "df = pd.read_csv('mypersonality_final.csv')\n",
    "\n",
    "#change all the categorical data to numeric data\n",
    "df['cEXT'] = np.where(df['cEXT']=='y', 1, 0)\n",
    "df['cNEU'] = np.where(df['cNEU']=='y', 1, 0)\n",
    "df['cAGR'] = np.where(df['cAGR']=='y', 1, 0)\n",
    "df['cCON'] = np.where(df['cCON']=='y', 1, 0)\n",
    "df['cOPN'] = np.where(df['cOPN']=='y', 1, 0)"
   ]
  },
  {
   "cell_type": "markdown",
   "metadata": {},
   "source": [
    "<h1> Data Preprocessing and Tweaking </h1>"
   ]
  },
  {
   "cell_type": "code",
   "execution_count": 2,
   "metadata": {
    "collapsed": true
   },
   "outputs": [],
   "source": [
    "#converting data to numpy array\n",
    "##data = df.groupby('AUTHID').mean().values\n",
    "data = df.values\n",
    "\n",
    "#introducing randomness in data by 0.1 at max\n",
    "auth_id = data[0,0]\n",
    "for i in range(1, data.shape[0]):\n",
    "    if data[i, 0]==auth_id:\n",
    "        feature_number = randint(1,5)\n",
    "        data[i, feature_number] = data[i, feature_number] + randint(1,5)/100\n",
    "    auth_id = data[i, 0]\n",
    "\n",
    "#save csv of the data\n",
    "pd.DataFrame(data).to_csv('final_processed_data.csv')\n",
    "\n",
    "#data splitting into training and test\n",
    "X_train, X_test, y_train, y_test = train_test_split(data[:,1:6], data[:,6:], test_size = 0.092467, random_state = 42)\n",
    "\n",
    "#dimension fix\n",
    "X_train = X_train.astype(float).T\n",
    "X_test = X_test.astype(float).T\n",
    "y_train = y_train.astype(float).T\n",
    "y_test = y_test.astype(float).T\n",
    "\n",
    "\n"
   ]
  },
  {
   "cell_type": "markdown",
   "metadata": {},
   "source": [
    "<h1> Neural Network Define </h1> "
   ]
  },
  {
   "cell_type": "code",
   "execution_count": 3,
   "metadata": {},
   "outputs": [
    {
     "name": "stdout",
     "output_type": "stream",
     "text": [
      "Loss in epoch  100 :  [3.29879628]\n",
      "Loss in epoch  200 :  [3.29407564]\n",
      "Loss in epoch  300 :  [3.29249931]\n",
      "Loss in epoch  400 :  [3.29018646]\n",
      "Loss in epoch  500 :  [3.28675667]\n",
      "Loss in epoch  600 :  [3.28177005]\n",
      "Loss in epoch  700 :  [3.27471222]\n",
      "Loss in epoch  800 :  [3.26497423]\n",
      "Loss in epoch  900 :  [3.25175743]\n",
      "Loss in epoch  1000 :  [3.2338064]\n"
     ]
    },
    {
     "data": {
      "image/png": "[encoded data removed]",
      "text/plain": [
       "<matplotlib.figure.Figure at 0xdbf5914c50>"
      ]
     },
     "metadata": {},
     "output_type": "display_data"
    }
   ],
   "source": [
    "number_of_hidden_layers = 2\n",
    "number_of_input_layer_units = X_train.shape[0]\n",
    "number_of_hidden_layer_units = 8\n",
    "number_of_output_layer_units = 5\n",
    "number_of_samples = X_train.shape[1]\n",
    "\n",
    "\n",
    "P_Net = NeuralNetwork([number_of_hidden_layers, number_of_input_layer_units, number_of_hidden_layer_units, \\\n",
    "                       number_of_output_layer_units, number_of_samples])\n",
    "P_Net.structure_define()\n",
    "\n",
    "num_epoch = 1000\n",
    "epoch = np.arange(1, num_epoch+1)\n",
    "loss = np.zeros((num_epoch, 1))\n",
    "\n",
    "for i in range(num_epoch):\n",
    "    P_Net.forward_propagation(X_train)\n",
    "    loss[i] = P_Net.calculate_network_loss(y_train)\n",
    "    if (i+1)%100==0: \n",
    "        print(\"Loss in epoch \", (i+1), \": \", loss[i])\n",
    "    P_Net.backward_propagation(X_train, y_train)\n",
    "\n",
    "plt.figure(1)\n",
    "plt.semilogy(epoch, loss)\n",
    "plt.xlabel('Epoch')\n",
    "plt.ylabel('Error Amplitude in Log Dimension')\n",
    "plt.show()"
   ]
  },
  {
   "cell_type": "markdown",
   "metadata": {},
   "source": [
    "<h1> Performance Test </h1>"
   ]
  },
  {
   "cell_type": "code",
   "execution_count": 4,
   "metadata": {},
   "outputs": [
    {
     "name": "stdout",
     "output_type": "stream",
     "text": [
      "Final Loss:  3.209659198743783\n",
      "0.6472191930207197 0.49705561613958643 0.5423378511710051\n"
     ]
    }
   ],
   "source": [
    "P_Net.forward_propagation(X_test)\n",
    "loss_test = P_Net.calculate_network_loss(y_test)\n",
    "print(\"Final Loss: \", loss_test)\n",
    "\n",
    "y_test = np.where(y_test==1.0, 1, 0)\n",
    "P_Net.A_3 = np.where(P_Net.A_3>0.50, 1, 0)\n",
    "\n",
    "avg_prec = 0\n",
    "avg_rec = 0\n",
    "avg_f1 = 0\n",
    "\n",
    "for i in range(y_test.shape[1]):\n",
    "    avg_prec = avg_prec + precision_score(y_test[:,i], P_Net.A_3[:,i])\n",
    "    avg_rec = avg_rec + recall_score(y_test[:,i], P_Net.A_3[:,i])\n",
    "    avg_f1 = avg_f1 + f1_score(y_test[:,i], P_Net.A_3[:,i])\n",
    "    \n",
    "print(avg_prec/y_test.shape[1], avg_rec/y_test.shape[1], avg_f1/y_test.shape[1])\n"
   ]
  },
  {
   "cell_type": "markdown",
   "metadata": {},
   "source": [
    "<h1> Particle Swarm Optimization on top of Neural Network </h1> "
   ]
  },
  {
   "cell_type": "code",
   "execution_count": 5,
   "metadata": {},
   "outputs": [
    {
     "name": "stdout",
     "output_type": "stream",
     "text": [
      "Iteration Number:  100 Best Cost:  [3.07870259]\n",
      "Iteration Number:  200 Best Cost:  [3.04695359]\n",
      "Iteration Number:  300 Best Cost:  [2.91350004]\n",
      "Iteration Number:  400 Best Cost:  [2.87220591]\n",
      "Iteration Number:  500 Best Cost:  [2.80420245]\n",
      "Iteration Number:  600 Best Cost:  [2.80420245]\n",
      "Iteration Number:  700 Best Cost:  [2.80005537]\n",
      "Iteration Number:  800 Best Cost:  [2.7933805]\n",
      "Iteration Number:  900 Best Cost:  [2.78621548]\n",
      "Iteration Number:  1000 Best Cost:  [2.78621279]\n"
     ]
    },
    {
     "data": {
      "image/png": "[encoded data removed]",
      "text/plain": [
       "<matplotlib.figure.Figure at 0xdb8349c080>"
      ]
     },
     "metadata": {},
     "output_type": "display_data"
    }
   ],
   "source": [
    "#initialize swarm\n",
    "particleSwarm = Swarm(P_Net, X_train, y_train, maxIt = 1000, nPop = 50)\n",
    "particleSwarm.initialize_swarm(P_Net)\n",
    "\n",
    "#run main loop\n",
    "epoch, loss = particleSwarm.pso_loop(P_Net, num_epoch, epoch, loss)\n",
    "\n",
    "#plot continue\n",
    "plt.figure(1)\n",
    "plt.semilogy(epoch, loss)\n",
    "plt.xlabel('Epoch')\n",
    "plt.ylabel('Error Amplitude in Log Dimension')\n",
    "plt.show()"
   ]
  }
 ],
 "metadata": {
  "kernelspec": {
   "display_name": "Python 3",
   "language": "python",
   "name": "python3"
  },
  "language_info": {
   "codemirror_mode": {
    "name": "ipython",
    "version": 3
   },
   "file_extension": ".py",
   "mimetype": "text/x-python",
   "name": "python",
   "nbconvert_exporter": "python",
   "pygments_lexer": "ipython3",
   "version": "3.6.2"
  }
 },
 "nbformat": 4,
 "nbformat_minor": 2
}
